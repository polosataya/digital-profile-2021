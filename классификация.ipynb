{
 "cells": [
  {
   "cell_type": "markdown",
   "metadata": {},
   "source": [
    "В рамках кейса необходимо решить следующие задачи:\n",
    "\n",
    "1.\tОбучить классификатор предсказывать сегмент по признакам на тренировочной выборке и\n",
    "проверить работу классификатора на тестовой выборке, в которой отсутствуют метки сегментов;\n",
    "\n",
    "2.\tИспользуя таблицу признаков, кластеризовать пользователей и сравнить найденные кластеры с\n",
    "сегментами, представленными в Dataset."
   ]
  },
  {
   "cell_type": "code",
   "execution_count": 1,
   "metadata": {},
   "outputs": [],
   "source": [
    "import numpy as np\n",
    "import pandas as pd\n",
    "from datetime import timedelta\n",
    "from sklearn.model_selection import train_test_split\n",
    "from catboost import CatBoostClassifier\n",
    "from sklearn.metrics import roc_auc_score\n",
    "from sklearn.model_selection import KFold, StratifiedKFold"
   ]
  },
  {
   "cell_type": "code",
   "execution_count": 13,
   "metadata": {},
   "outputs": [],
   "source": [
    "import matplotlib.pyplot as plt\n",
    "import seaborn as sns\n",
    "sns.set(style = 'whitegrid')"
   ]
  },
  {
   "cell_type": "code",
   "execution_count": 18,
   "metadata": {},
   "outputs": [],
   "source": [
    "def prepare_df(df, notrare, freq, replace_msk, train = 1):\n",
    "    #колонки, которые не меняются\n",
    "    if train ==1:\n",
    "        df_train = df[['Segment','gamecategory','subgamecategory', 'city',]].copy()\n",
    "    else:\n",
    "        df_train = df[['gamecategory','subgamecategory', 'city',]].copy()\n",
    "    #Написание устройства маленькими\n",
    "    df_train['os'] = df.os.str.lower()\n",
    "    print('os')\n",
    "    #Только одно число в версии\n",
    "    df_train['osv'] = df['osv'].str.split(\".\", n=1, expand=True)[0]\n",
    "    df_train['osv'] = df_train['osv'].str.split(\"(\", n=1, expand=True)[0]\n",
    "    #для '10 / API-29'\n",
    "    df_train['osv'] = df_train['osv'].str.split(\" \", n=1, expand=True)[0]\n",
    "    #удяляем меньше 1000\n",
    "    df_train['osv'] = df_train['osv'].apply(lambda x: 0 if x not in notrare else x)\n",
    "    df_train['osv'] = df_train['osv'].fillna(0).astype('int8')\n",
    "    print('osv')\n",
    "    #замена сдига времени на точное число\n",
    "    df_train['shift'] = df['shift'].replace(replace_msk).fillna(0).astype(\"int8\")\n",
    "    df_train['local_created'] = df['created'] + pd.to_timedelta(df_train['shift'],'h')\n",
    "    #Час и день недели создания файла\n",
    "    df_train['hour_created'] = df_train['local_created'].dt.hour\n",
    "    #понедельник 0\n",
    "    df_train['day_created'] = df_train['local_created'].dt.dayofweek\n",
    "    print('created')\n",
    "    df_train['bundle'] = df['bundle'].apply(lambda x: 'rare' if x not in freq else x)\n",
    "    \n",
    "    return df_train[col_name]"
   ]
  },
  {
   "cell_type": "markdown",
   "metadata": {},
   "source": [
    "## Простой анализ данных"
   ]
  },
  {
   "cell_type": "code",
   "execution_count": 2,
   "metadata": {},
   "outputs": [],
   "source": [
    "col_name = ['Segment','gamecategory','subgamecategory','bundle','created','shift','city', 'os','osv']#'oblast',\n",
    "#hackaton_train.csv.zip отдельно упакован трейн, без других файлов\n",
    "X_train = pd.read_csv('hackaton_train.csv.zip', sep=',', parse_dates=['created'])[col_name] #, nrows=10000"
   ]
  },
  {
   "cell_type": "code",
   "execution_count": 3,
   "metadata": {},
   "outputs": [
    {
     "data": {
      "text/html": [
       "<div>\n",
       "<style scoped>\n",
       "    .dataframe tbody tr th:only-of-type {\n",
       "        vertical-align: middle;\n",
       "    }\n",
       "\n",
       "    .dataframe tbody tr th {\n",
       "        vertical-align: top;\n",
       "    }\n",
       "\n",
       "    .dataframe thead th {\n",
       "        text-align: right;\n",
       "    }\n",
       "</style>\n",
       "<table border=\"1\" class=\"dataframe\">\n",
       "  <thead>\n",
       "    <tr style=\"text-align: right;\">\n",
       "      <th></th>\n",
       "      <th>Segment</th>\n",
       "      <th>gamecategory</th>\n",
       "      <th>subgamecategory</th>\n",
       "      <th>bundle</th>\n",
       "      <th>created</th>\n",
       "      <th>shift</th>\n",
       "      <th>city</th>\n",
       "      <th>os</th>\n",
       "      <th>osv</th>\n",
       "    </tr>\n",
       "  </thead>\n",
       "  <tbody>\n",
       "    <tr>\n",
       "      <th>0</th>\n",
       "      <td>4</td>\n",
       "      <td>Games</td>\n",
       "      <td>Racing</td>\n",
       "      <td>com.MadOut.BIG</td>\n",
       "      <td>2021-07-05 18:07:40</td>\n",
       "      <td>MSK+6</td>\n",
       "      <td>Чита</td>\n",
       "      <td>android</td>\n",
       "      <td>10.0</td>\n",
       "    </tr>\n",
       "    <tr>\n",
       "      <th>1</th>\n",
       "      <td>4</td>\n",
       "      <td>NaN</td>\n",
       "      <td>NaN</td>\n",
       "      <td>com.easybrain.solitaire.klondike.free</td>\n",
       "      <td>2021-07-10 10:38:42</td>\n",
       "      <td>MSK+2</td>\n",
       "      <td>Оренбург</td>\n",
       "      <td>Android</td>\n",
       "      <td>10.0.0</td>\n",
       "    </tr>\n",
       "    <tr>\n",
       "      <th>2</th>\n",
       "      <td>5</td>\n",
       "      <td>Games</td>\n",
       "      <td>Arcade</td>\n",
       "      <td>com.orbitalknight.ridiculousfreekick</td>\n",
       "      <td>2021-08-04 13:34:29</td>\n",
       "      <td>MSK</td>\n",
       "      <td>Санкт-Петербург</td>\n",
       "      <td>android</td>\n",
       "      <td>9.0</td>\n",
       "    </tr>\n",
       "    <tr>\n",
       "      <th>3</th>\n",
       "      <td>5</td>\n",
       "      <td>NaN</td>\n",
       "      <td>NaN</td>\n",
       "      <td>tcouchgind.scooterextreme.scooter</td>\n",
       "      <td>2021-08-06 07:35:27</td>\n",
       "      <td>MSK+2</td>\n",
       "      <td>Екатеринбург</td>\n",
       "      <td>android</td>\n",
       "      <td>9</td>\n",
       "    </tr>\n",
       "    <tr>\n",
       "      <th>4</th>\n",
       "      <td>4</td>\n",
       "      <td>NaN</td>\n",
       "      <td>NaN</td>\n",
       "      <td>com.FidgetTrading3D.game</td>\n",
       "      <td>2021-08-02 20:43:59</td>\n",
       "      <td>MSK</td>\n",
       "      <td>Звенигород</td>\n",
       "      <td>android</td>\n",
       "      <td>6.0.1</td>\n",
       "    </tr>\n",
       "  </tbody>\n",
       "</table>\n",
       "</div>"
      ],
      "text/plain": [
       "   Segment gamecategory subgamecategory  \\\n",
       "0        4        Games          Racing   \n",
       "1        4          NaN             NaN   \n",
       "2        5        Games          Arcade   \n",
       "3        5          NaN             NaN   \n",
       "4        4          NaN             NaN   \n",
       "\n",
       "                                  bundle             created  shift  \\\n",
       "0                         com.MadOut.BIG 2021-07-05 18:07:40  MSK+6   \n",
       "1  com.easybrain.solitaire.klondike.free 2021-07-10 10:38:42  MSK+2   \n",
       "2   com.orbitalknight.ridiculousfreekick 2021-08-04 13:34:29    MSK   \n",
       "3      tcouchgind.scooterextreme.scooter 2021-08-06 07:35:27  MSK+2   \n",
       "4               com.FidgetTrading3D.game 2021-08-02 20:43:59    MSK   \n",
       "\n",
       "              city       os     osv  \n",
       "0             Чита  android    10.0  \n",
       "1         Оренбург  Android  10.0.0  \n",
       "2  Санкт-Петербург  android     9.0  \n",
       "3     Екатеринбург  android       9  \n",
       "4       Звенигород  android   6.0.1  "
      ]
     },
     "execution_count": 3,
     "metadata": {},
     "output_type": "execute_result"
    }
   ],
   "source": [
    "X_train.head()"
   ]
  },
  {
   "cell_type": "code",
   "execution_count": 4,
   "metadata": {},
   "outputs": [
    {
     "name": "stdout",
     "output_type": "stream",
     "text": [
      "<class 'pandas.core.frame.DataFrame'>\n",
      "RangeIndex: 44854516 entries, 0 to 44854515\n",
      "Data columns (total 9 columns):\n",
      " #   Column           Non-Null Count     Dtype         \n",
      "---  ------           --------------     -----         \n",
      " 0   Segment          44854516 non-null  int64         \n",
      " 1   gamecategory     27893185 non-null  object        \n",
      " 2   subgamecategory  27886091 non-null  object        \n",
      " 3   bundle           44837232 non-null  object        \n",
      " 4   created          44854516 non-null  datetime64[ns]\n",
      " 5   shift            41263366 non-null  object        \n",
      " 6   city             40054524 non-null  object        \n",
      " 7   os               44854283 non-null  object        \n",
      " 8   osv              44854233 non-null  object        \n",
      "dtypes: datetime64[ns](1), int64(1), object(7)\n",
      "memory usage: 3.0+ GB\n"
     ]
    }
   ],
   "source": [
    "X_train.info(show_counts=True)"
   ]
  },
  {
   "cell_type": "code",
   "execution_count": 5,
   "metadata": {},
   "outputs": [
    {
     "data": {
      "text/plain": [
       "5    0.383183\n",
       "3    0.316290\n",
       "4    0.248405\n",
       "2    0.031574\n",
       "1    0.020547\n",
       "Name: Segment, dtype: float64"
      ]
     },
     "execution_count": 5,
     "metadata": {},
     "output_type": "execute_result"
    }
   ],
   "source": [
    "X_train.Segment.value_counts(normalize=True, dropna=False)"
   ]
  },
  {
   "cell_type": "code",
   "execution_count": 6,
   "metadata": {},
   "outputs": [
    {
     "data": {
      "text/plain": [
       "Games                 24555534\n",
       "NaN                   16961331\n",
       "Applications           2742231\n",
       "Lifestyle               267292\n",
       "Shopping                184875\n",
       "Entertainment            31465\n",
       "Social Networking        28931\n",
       "Education                27008\n",
       "Book                     23483\n",
       "Photo & Video            10235\n",
       "Utilities                 7560\n",
       "Music                     4571\n",
       "IAB9-30                   3474\n",
       "Health & Fitness          1423\n",
       "Finance                   1322\n",
       "Productivity              1314\n",
       "Travel                     778\n",
       "Sports                     614\n",
       "Navigation                 332\n",
       "Reference                  235\n",
       "IAB9,IAB9-30,games         226\n",
       "Graphics & Design           73\n",
       "Business                    67\n",
       "Medical                     66\n",
       "Food & Drink                44\n",
       "News                        23\n",
       "Weather                      5\n",
       "Stickers                     4\n",
       "Name: gamecategory, dtype: int64"
      ]
     },
     "execution_count": 6,
     "metadata": {},
     "output_type": "execute_result"
    }
   ],
   "source": [
    "X_train.gamecategory.value_counts(dropna=False)"
   ]
  },
  {
   "cell_type": "code",
   "execution_count": 7,
   "metadata": {},
   "outputs": [
    {
     "data": {
      "text/plain": [
       "54"
      ]
     },
     "execution_count": 7,
     "metadata": {},
     "output_type": "execute_result"
    }
   ],
   "source": [
    "X_train.subgamecategory.nunique(dropna=False)"
   ]
  },
  {
   "cell_type": "code",
   "execution_count": 8,
   "metadata": {},
   "outputs": [
    {
     "data": {
      "text/plain": [
       "85798"
      ]
     },
     "execution_count": 8,
     "metadata": {},
     "output_type": "execute_result"
    }
   ],
   "source": [
    "X_train.bundle.nunique(dropna=False)"
   ]
  },
  {
   "cell_type": "code",
   "execution_count": 9,
   "metadata": {},
   "outputs": [
    {
     "data": {
      "text/plain": [
       "(Timestamp('1970-01-01 03:00:00'),\n",
       " Timestamp('2021-07-05 00:00:00'),\n",
       " Timestamp('2021-09-20 23:59:40'))"
      ]
     },
     "execution_count": 9,
     "metadata": {},
     "output_type": "execute_result"
    }
   ],
   "source": [
    "X_train.created.min(), X_train['created'][X_train.created >= pd.to_datetime('2021')].min(), X_train.created.max()"
   ]
  },
  {
   "cell_type": "code",
   "execution_count": 10,
   "metadata": {},
   "outputs": [
    {
     "data": {
      "text/plain": [
       "MSK      26308751\n",
       "MSK+2     5987717\n",
       "NaN       3591150\n",
       "MSK+3     2875851\n",
       "MSK+1     1895297\n",
       "MSK+7     1445292\n",
       "MSK+4     1098024\n",
       "MSK+5      821276\n",
       "MSK+6      535227\n",
       "MSK-1      198047\n",
       "MSK+9       76542\n",
       "MSK+8       21342\n",
       "Name: shift, dtype: int64"
      ]
     },
     "execution_count": 10,
     "metadata": {},
     "output_type": "execute_result"
    }
   ],
   "source": [
    "X_train['shift'].value_counts(dropna=False)"
   ]
  },
  {
   "cell_type": "code",
   "execution_count": 11,
   "metadata": {},
   "outputs": [
    {
     "data": {
      "text/plain": [
       "2499"
      ]
     },
     "execution_count": 11,
     "metadata": {},
     "output_type": "execute_result"
    }
   ],
   "source": [
    "X_train['city'].nunique(dropna=False)"
   ]
  },
  {
   "cell_type": "code",
   "execution_count": 12,
   "metadata": {},
   "outputs": [
    {
     "data": {
      "text/plain": [
       "android    35245849\n",
       "ios         5248627\n",
       "Android     4253330\n",
       "iOS          106477\n",
       "NaN             233\n",
       "Name: os, dtype: int64"
      ]
     },
     "execution_count": 12,
     "metadata": {},
     "output_type": "execute_result"
    }
   ],
   "source": [
    "X_train['os'].value_counts(dropna=False)"
   ]
  },
  {
   "cell_type": "code",
   "execution_count": 13,
   "metadata": {},
   "outputs": [
    {
     "data": {
      "text/plain": [
       "255"
      ]
     },
     "execution_count": 13,
     "metadata": {},
     "output_type": "execute_result"
    }
   ],
   "source": [
    "X_train['osv'].nunique(dropna=False)"
   ]
  },
  {
   "cell_type": "code",
   "execution_count": 14,
   "metadata": {},
   "outputs": [
    {
     "data": {
      "text/plain": [
       "74"
      ]
     },
     "execution_count": 14,
     "metadata": {},
     "output_type": "execute_result"
    }
   ],
   "source": [
    "(X_train['osv'].value_counts()[(X_train['osv'].value_counts() > 10000) ==True].index).nunique()"
   ]
  },
  {
   "cell_type": "code",
   "execution_count": 15,
   "metadata": {},
   "outputs": [
    {
     "data": {
      "text/plain": [
       "3426"
      ]
     },
     "execution_count": 15,
     "metadata": {},
     "output_type": "execute_result"
    }
   ],
   "source": [
    "freq = X_train['bundle'].value_counts()[(X_train['bundle'].value_counts() > 1000) ==True].index\n",
    "len(freq)"
   ]
  },
  {
   "cell_type": "code",
   "execution_count": 16,
   "metadata": {},
   "outputs": [
    {
     "data": {
      "text/plain": [
       "175"
      ]
     },
     "execution_count": 16,
     "metadata": {},
     "output_type": "execute_result"
    }
   ],
   "source": [
    "notrare = X_train['osv'].value_counts()[(X_train['osv'].value_counts() > 100) ==True].index\n",
    "len(notrare)"
   ]
  },
  {
   "cell_type": "markdown",
   "metadata": {},
   "source": [
    "### Подготовка датасета"
   ]
  },
  {
   "cell_type": "markdown",
   "metadata": {},
   "source": [
    "Убираем строки со временем 1970 год, как ошибочные"
   ]
  },
  {
   "cell_type": "code",
   "execution_count": 19,
   "metadata": {},
   "outputs": [],
   "source": [
    "X_train = X_train[X_train.created >= pd.to_datetime('2021')]"
   ]
  },
  {
   "cell_type": "code",
   "execution_count": 20,
   "metadata": {},
   "outputs": [],
   "source": [
    "#Параметры для 44 млн freq > 1000 (3426 уникальных) notrare > 100 (175 уникальных)\n",
    "notrare = X_train['osv'].value_counts()[(X_train['osv'].value_counts() > 100) ==True].index\n",
    "freq = X_train['bundle'].value_counts()[(X_train['bundle'].value_counts() > 1000) ==True].index\n",
    "replace_msk = {'MSK': 0, 'MSK+1': 1, 'MSK+2': 2, 'MSK+3': 3, 'MSK+4': 4, 'MSK+5': 5, 'MSK+6': 6, \n",
    "               'MSK+7': 7, 'MSK+8': 8, 'MSK+9': 9, 'MSK-1': -1}\n",
    "col_name = ['Segment', 'gamecategory', 'subgamecategory', 'bundle', 'city', 'os', 'osv', 'hour_created', \n",
    "            'day_created']    "
   ]
  },
  {
   "cell_type": "code",
   "execution_count": 21,
   "metadata": {},
   "outputs": [
    {
     "name": "stdout",
     "output_type": "stream",
     "text": [
      "os\n",
      "osv\n",
      "created\n"
     ]
    },
    {
     "data": {
      "text/html": [
       "<div>\n",
       "<style scoped>\n",
       "    .dataframe tbody tr th:only-of-type {\n",
       "        vertical-align: middle;\n",
       "    }\n",
       "\n",
       "    .dataframe tbody tr th {\n",
       "        vertical-align: top;\n",
       "    }\n",
       "\n",
       "    .dataframe thead th {\n",
       "        text-align: right;\n",
       "    }\n",
       "</style>\n",
       "<table border=\"1\" class=\"dataframe\">\n",
       "  <thead>\n",
       "    <tr style=\"text-align: right;\">\n",
       "      <th></th>\n",
       "      <th>Segment</th>\n",
       "      <th>gamecategory</th>\n",
       "      <th>subgamecategory</th>\n",
       "      <th>bundle</th>\n",
       "      <th>city</th>\n",
       "      <th>os</th>\n",
       "      <th>osv</th>\n",
       "      <th>hour_created</th>\n",
       "      <th>day_created</th>\n",
       "    </tr>\n",
       "  </thead>\n",
       "  <tbody>\n",
       "    <tr>\n",
       "      <th>0</th>\n",
       "      <td>4</td>\n",
       "      <td>Games</td>\n",
       "      <td>Racing</td>\n",
       "      <td>com.MadOut.BIG</td>\n",
       "      <td>Чита</td>\n",
       "      <td>android</td>\n",
       "      <td>10</td>\n",
       "      <td>0</td>\n",
       "      <td>1</td>\n",
       "    </tr>\n",
       "    <tr>\n",
       "      <th>1</th>\n",
       "      <td>4</td>\n",
       "      <td>NaN</td>\n",
       "      <td>NaN</td>\n",
       "      <td>com.easybrain.solitaire.klondike.free</td>\n",
       "      <td>Оренбург</td>\n",
       "      <td>android</td>\n",
       "      <td>10</td>\n",
       "      <td>12</td>\n",
       "      <td>5</td>\n",
       "    </tr>\n",
       "    <tr>\n",
       "      <th>2</th>\n",
       "      <td>5</td>\n",
       "      <td>Games</td>\n",
       "      <td>Arcade</td>\n",
       "      <td>com.orbitalknight.ridiculousfreekick</td>\n",
       "      <td>Санкт-Петербург</td>\n",
       "      <td>android</td>\n",
       "      <td>9</td>\n",
       "      <td>13</td>\n",
       "      <td>2</td>\n",
       "    </tr>\n",
       "    <tr>\n",
       "      <th>3</th>\n",
       "      <td>5</td>\n",
       "      <td>NaN</td>\n",
       "      <td>NaN</td>\n",
       "      <td>rare</td>\n",
       "      <td>Екатеринбург</td>\n",
       "      <td>android</td>\n",
       "      <td>9</td>\n",
       "      <td>9</td>\n",
       "      <td>4</td>\n",
       "    </tr>\n",
       "    <tr>\n",
       "      <th>4</th>\n",
       "      <td>4</td>\n",
       "      <td>NaN</td>\n",
       "      <td>NaN</td>\n",
       "      <td>com.FidgetTrading3D.game</td>\n",
       "      <td>Звенигород</td>\n",
       "      <td>android</td>\n",
       "      <td>0</td>\n",
       "      <td>20</td>\n",
       "      <td>0</td>\n",
       "    </tr>\n",
       "  </tbody>\n",
       "</table>\n",
       "</div>"
      ],
      "text/plain": [
       "   Segment gamecategory subgamecategory  \\\n",
       "0        4        Games          Racing   \n",
       "1        4          NaN             NaN   \n",
       "2        5        Games          Arcade   \n",
       "3        5          NaN             NaN   \n",
       "4        4          NaN             NaN   \n",
       "\n",
       "                                  bundle             city       os  osv  \\\n",
       "0                         com.MadOut.BIG             Чита  android   10   \n",
       "1  com.easybrain.solitaire.klondike.free         Оренбург  android   10   \n",
       "2   com.orbitalknight.ridiculousfreekick  Санкт-Петербург  android    9   \n",
       "3                                   rare     Екатеринбург  android    9   \n",
       "4               com.FidgetTrading3D.game       Звенигород  android    0   \n",
       "\n",
       "   hour_created  day_created  \n",
       "0             0            1  \n",
       "1            12            5  \n",
       "2            13            2  \n",
       "3             9            4  \n",
       "4            20            0  "
      ]
     },
     "execution_count": 21,
     "metadata": {},
     "output_type": "execute_result"
    }
   ],
   "source": [
    "df_train = prepare_df(X_train, notrare, freq, replace_msk, train = 1)\n",
    "df_train.head()"
   ]
  },
  {
   "cell_type": "code",
   "execution_count": 22,
   "metadata": {},
   "outputs": [],
   "source": [
    "col_name = ['Segment', 'gamecategory', 'subgamecategory', 'bundle', 'city', 'os', 'osv', 'hour_created', \n",
    "            'day_created']\n",
    "df_train[col_name].to_csv(\"train.csv.gz\", header = True, index= False, compression='gzip')"
   ]
  },
  {
   "cell_type": "code",
   "execution_count": 23,
   "metadata": {},
   "outputs": [],
   "source": [
    "np.savetxt(\"notrare.txt\", notrare, newline=\"\\n\", fmt='%s')\n",
    "np.savetxt(\"freq.txt\", freq, newline=\"\\n\", fmt='%s')"
   ]
  },
  {
   "cell_type": "markdown",
   "metadata": {},
   "source": [
    "Создадим отложенную выборку для расчета метрики"
   ]
  },
  {
   "cell_type": "code",
   "execution_count": 24,
   "metadata": {},
   "outputs": [],
   "source": [
    "#7 и 8 месяцы в тренировочный, а 9 в отложенный\n",
    "#df_train = X_train[X_train.local_created < pd.to_datetime('2021-09')]\n",
    "#df_hold = X_train[X_train.local_created >= pd.to_datetime('2021-09')]"
   ]
  },
  {
   "cell_type": "code",
   "execution_count": 25,
   "metadata": {},
   "outputs": [],
   "source": [
    "#col_name = ['Segment', 'gamecategory', 'subgamecategory', 'bundle', 'city', 'os', 'osv', 'hour_created', \n",
    "#            'day_created']"
   ]
  },
  {
   "cell_type": "code",
   "execution_count": 24,
   "metadata": {},
   "outputs": [],
   "source": [
    "df_train, df_hold = train_test_split(df_train, test_size=0.4, random_state=42, stratify=df_train.Segment)"
   ]
  },
  {
   "cell_type": "code",
   "execution_count": 25,
   "metadata": {},
   "outputs": [],
   "source": [
    "df_train[col_name].to_csv(\"df_train.csv.gz\", header = True, index= False, compression='gzip')"
   ]
  },
  {
   "cell_type": "code",
   "execution_count": 26,
   "metadata": {},
   "outputs": [],
   "source": [
    "df_hold[col_name].to_csv(\"df_hold.csv.gz\", header = True, index= False, compression='gzip')"
   ]
  },
  {
   "cell_type": "markdown",
   "metadata": {},
   "source": [
    "### Обработка тестового датасета"
   ]
  },
  {
   "cell_type": "code",
   "execution_count": null,
   "metadata": {},
   "outputs": [],
   "source": [
    "col_name = ['gamecategory','subgamecategory','bundle','created','shift','city', 'os','osv']#'oblast',\n",
    "#hackaton_train.csv.zip отдельно упакован трейн, без других файлов\n",
    "X_test = pd.read_csv('hackathon_test.zip', sep=',', parse_dates=['created'])[col_name]"
   ]
  },
  {
   "cell_type": "code",
   "execution_count": 15,
   "metadata": {},
   "outputs": [],
   "source": [
    "notrare = list(np.loadtxt(\"notrare.txt\", delimiter=\"\\n\", dtype=str))\n",
    "freq = list(np.loadtxt(\"freq.txt\", delimiter=\"\\n\", dtype=str))\n",
    "replace_msk = {'MSK': 0, 'MSK+1': 1, 'MSK+2': 2, 'MSK+3': 3, 'MSK+4': 4, 'MSK+5': 5, 'MSK+6': 6, \n",
    "               'MSK+7': 7, 'MSK+8': 8, 'MSK+9': 9, 'MSK-1': -1}\n",
    "col_name = ['gamecategory', 'subgamecategory', 'bundle', 'city', 'os', 'osv', 'hour_created', \n",
    "            'day_created'] "
   ]
  },
  {
   "cell_type": "code",
   "execution_count": 19,
   "metadata": {},
   "outputs": [
    {
     "name": "stdout",
     "output_type": "stream",
     "text": [
      "os\n",
      "osv\n",
      "created\n"
     ]
    },
    {
     "data": {
      "text/html": [
       "<div>\n",
       "<style scoped>\n",
       "    .dataframe tbody tr th:only-of-type {\n",
       "        vertical-align: middle;\n",
       "    }\n",
       "\n",
       "    .dataframe tbody tr th {\n",
       "        vertical-align: top;\n",
       "    }\n",
       "\n",
       "    .dataframe thead th {\n",
       "        text-align: right;\n",
       "    }\n",
       "</style>\n",
       "<table border=\"1\" class=\"dataframe\">\n",
       "  <thead>\n",
       "    <tr style=\"text-align: right;\">\n",
       "      <th></th>\n",
       "      <th>gamecategory</th>\n",
       "      <th>subgamecategory</th>\n",
       "      <th>bundle</th>\n",
       "      <th>city</th>\n",
       "      <th>os</th>\n",
       "      <th>osv</th>\n",
       "      <th>hour_created</th>\n",
       "      <th>day_created</th>\n",
       "    </tr>\n",
       "  </thead>\n",
       "  <tbody>\n",
       "    <tr>\n",
       "      <th>0</th>\n",
       "      <td>Applications</td>\n",
       "      <td>Shopping</td>\n",
       "      <td>com.allgoritm.youla</td>\n",
       "      <td>Екатеринбург</td>\n",
       "      <td>android</td>\n",
       "      <td>10</td>\n",
       "      <td>19</td>\n",
       "      <td>6</td>\n",
       "    </tr>\n",
       "    <tr>\n",
       "      <th>1</th>\n",
       "      <td>NaN</td>\n",
       "      <td>NaN</td>\n",
       "      <td>rare</td>\n",
       "      <td>Новый Уренгой</td>\n",
       "      <td>android</td>\n",
       "      <td>10</td>\n",
       "      <td>19</td>\n",
       "      <td>1</td>\n",
       "    </tr>\n",
       "    <tr>\n",
       "      <th>2</th>\n",
       "      <td>NaN</td>\n",
       "      <td>NaN</td>\n",
       "      <td>1387897651</td>\n",
       "      <td>Москва</td>\n",
       "      <td>ios</td>\n",
       "      <td>0</td>\n",
       "      <td>15</td>\n",
       "      <td>4</td>\n",
       "    </tr>\n",
       "    <tr>\n",
       "      <th>3</th>\n",
       "      <td>NaN</td>\n",
       "      <td>NaN</td>\n",
       "      <td>com.cooking.family.diary.fever.food.city.craze...</td>\n",
       "      <td>Краснодар</td>\n",
       "      <td>android</td>\n",
       "      <td>9</td>\n",
       "      <td>23</td>\n",
       "      <td>0</td>\n",
       "    </tr>\n",
       "    <tr>\n",
       "      <th>4</th>\n",
       "      <td>Applications</td>\n",
       "      <td>Health &amp; Fitness</td>\n",
       "      <td>com.pedometer.stepcounter.tracker</td>\n",
       "      <td>Набережные Челны</td>\n",
       "      <td>android</td>\n",
       "      <td>10</td>\n",
       "      <td>15</td>\n",
       "      <td>3</td>\n",
       "    </tr>\n",
       "  </tbody>\n",
       "</table>\n",
       "</div>"
      ],
      "text/plain": [
       "   gamecategory   subgamecategory  \\\n",
       "0  Applications          Shopping   \n",
       "1           NaN               NaN   \n",
       "2           NaN               NaN   \n",
       "3           NaN               NaN   \n",
       "4  Applications  Health & Fitness   \n",
       "\n",
       "                                              bundle              city  \\\n",
       "0                                com.allgoritm.youla      Екатеринбург   \n",
       "1                                               rare     Новый Уренгой   \n",
       "2                                         1387897651            Москва   \n",
       "3  com.cooking.family.diary.fever.food.city.craze...         Краснодар   \n",
       "4                  com.pedometer.stepcounter.tracker  Набережные Челны   \n",
       "\n",
       "        os  osv  hour_created  day_created  \n",
       "0  android   10            19            6  \n",
       "1  android   10            19            1  \n",
       "2      ios    0            15            4  \n",
       "3  android    9            23            0  \n",
       "4  android   10            15            3  "
      ]
     },
     "execution_count": 19,
     "metadata": {},
     "output_type": "execute_result"
    }
   ],
   "source": [
    "df_test = prepare_df(X_test, notrare, freq, replace_msk, train = 0)\n",
    "df_test.head()"
   ]
  },
  {
   "cell_type": "code",
   "execution_count": 20,
   "metadata": {},
   "outputs": [],
   "source": [
    "df_test[col_name].to_csv(\"df_test.csv.gz\", header = True, index= False, compression='gzip')"
   ]
  },
  {
   "cell_type": "markdown",
   "metadata": {},
   "source": [
    "##  Проверка точности модели на отложенной выборке\n",
    "Тут перезапускаю ноутбук, т.к. вся память забита"
   ]
  },
  {
   "cell_type": "code",
   "execution_count": 2,
   "metadata": {},
   "outputs": [],
   "source": [
    "df_train = pd.read_csv('df_train.csv.gz', sep=',') #, nrows=10000000"
   ]
  },
  {
   "cell_type": "code",
   "execution_count": 3,
   "metadata": {},
   "outputs": [],
   "source": [
    "df_hold = pd.read_csv('df_hold.csv.gz', sep=',')"
   ]
  },
  {
   "cell_type": "code",
   "execution_count": 4,
   "metadata": {},
   "outputs": [],
   "source": [
    "df_train['gamecategory'] = df_train['gamecategory'].fillna(\" \")\n",
    "df_train['subgamecategory'] = df_train['gamecategory'].fillna(\" \")\n",
    "df_train['bundle'] = df_train['bundle'].fillna(\" \")\n",
    "df_train['city'] = df_train['city'].fillna(\" \")"
   ]
  },
  {
   "cell_type": "code",
   "execution_count": 5,
   "metadata": {},
   "outputs": [],
   "source": [
    "df_hold['gamecategory'] = df_hold['gamecategory'].fillna(\" \")\n",
    "df_hold['subgamecategory'] = df_hold['gamecategory'].fillna(\" \")\n",
    "df_hold['bundle'] = df_hold['bundle'].fillna(\" \")\n",
    "df_hold['city'] = df_hold['city'].fillna(\" \")"
   ]
  },
  {
   "cell_type": "code",
   "execution_count": 6,
   "metadata": {},
   "outputs": [
    {
     "data": {
      "text/html": [
       "<div>\n",
       "<style scoped>\n",
       "    .dataframe tbody tr th:only-of-type {\n",
       "        vertical-align: middle;\n",
       "    }\n",
       "\n",
       "    .dataframe tbody tr th {\n",
       "        vertical-align: top;\n",
       "    }\n",
       "\n",
       "    .dataframe thead th {\n",
       "        text-align: right;\n",
       "    }\n",
       "</style>\n",
       "<table border=\"1\" class=\"dataframe\">\n",
       "  <thead>\n",
       "    <tr style=\"text-align: right;\">\n",
       "      <th></th>\n",
       "      <th>Segment</th>\n",
       "      <th>gamecategory</th>\n",
       "      <th>subgamecategory</th>\n",
       "      <th>bundle</th>\n",
       "      <th>city</th>\n",
       "      <th>os</th>\n",
       "      <th>osv</th>\n",
       "      <th>hour_created</th>\n",
       "      <th>day_created</th>\n",
       "    </tr>\n",
       "  </thead>\n",
       "  <tbody>\n",
       "    <tr>\n",
       "      <th>0</th>\n",
       "      <td>4</td>\n",
       "      <td>Games</td>\n",
       "      <td>Games</td>\n",
       "      <td>com.miniclip.bowmasters</td>\n",
       "      <td>Саратов</td>\n",
       "      <td>android</td>\n",
       "      <td>11</td>\n",
       "      <td>16</td>\n",
       "      <td>1</td>\n",
       "    </tr>\n",
       "    <tr>\n",
       "      <th>1</th>\n",
       "      <td>3</td>\n",
       "      <td>Games</td>\n",
       "      <td>Games</td>\n",
       "      <td>com.playgendary.creamaster</td>\n",
       "      <td>Ижевск</td>\n",
       "      <td>android</td>\n",
       "      <td>0</td>\n",
       "      <td>23</td>\n",
       "      <td>1</td>\n",
       "    </tr>\n",
       "    <tr>\n",
       "      <th>2</th>\n",
       "      <td>4</td>\n",
       "      <td></td>\n",
       "      <td></td>\n",
       "      <td>com.iposedon.bricksbreakerballs</td>\n",
       "      <td>Москва</td>\n",
       "      <td>android</td>\n",
       "      <td>10</td>\n",
       "      <td>7</td>\n",
       "      <td>5</td>\n",
       "    </tr>\n",
       "    <tr>\n",
       "      <th>3</th>\n",
       "      <td>5</td>\n",
       "      <td>Games</td>\n",
       "      <td>Games</td>\n",
       "      <td>com.bigfishgames.mergetalesgoog</td>\n",
       "      <td>Владивосток</td>\n",
       "      <td>android</td>\n",
       "      <td>11</td>\n",
       "      <td>17</td>\n",
       "      <td>3</td>\n",
       "    </tr>\n",
       "    <tr>\n",
       "      <th>4</th>\n",
       "      <td>4</td>\n",
       "      <td></td>\n",
       "      <td></td>\n",
       "      <td>com.armnomads.hamstermazer</td>\n",
       "      <td>Москва</td>\n",
       "      <td>android</td>\n",
       "      <td>0</td>\n",
       "      <td>20</td>\n",
       "      <td>0</td>\n",
       "    </tr>\n",
       "  </tbody>\n",
       "</table>\n",
       "</div>"
      ],
      "text/plain": [
       "   Segment gamecategory subgamecategory                           bundle  \\\n",
       "0        4        Games           Games          com.miniclip.bowmasters   \n",
       "1        3        Games           Games       com.playgendary.creamaster   \n",
       "2        4                               com.iposedon.bricksbreakerballs   \n",
       "3        5        Games           Games  com.bigfishgames.mergetalesgoog   \n",
       "4        4                                    com.armnomads.hamstermazer   \n",
       "\n",
       "          city       os  osv  hour_created  day_created  \n",
       "0      Саратов  android   11            16            1  \n",
       "1       Ижевск  android    0            23            1  \n",
       "2       Москва  android   10             7            5  \n",
       "3  Владивосток  android   11            17            3  \n",
       "4       Москва  android    0            20            0  "
      ]
     },
     "execution_count": 6,
     "metadata": {},
     "output_type": "execute_result"
    }
   ],
   "source": [
    "df_train.head()"
   ]
  },
  {
   "cell_type": "code",
   "execution_count": 5,
   "metadata": {},
   "outputs": [],
   "source": [
    "#df = df_train.sample(frac=0.1, replace=False, random_state=42)"
   ]
  },
  {
   "cell_type": "code",
   "execution_count": 7,
   "metadata": {},
   "outputs": [],
   "source": [
    "features = ['gamecategory', 'subgamecategory', 'bundle', 'city', 'os', 'osv', 'hour_created', 'day_created']\n",
    "cat_feat = ['gamecategory', 'subgamecategory', 'bundle', 'city', 'os', ]\n",
    "\n",
    "X_train_part, X_valid, y_train_part, y_valid = train_test_split(df_train[features], df_train.Segment, \n",
    "                                                                test_size=0.2, \n",
    "                                                                random_state=42, stratify=df_train.Segment)"
   ]
  },
  {
   "cell_type": "code",
   "execution_count": 8,
   "metadata": {},
   "outputs": [],
   "source": [
    "cat_clf = CatBoostClassifier(loss_function = 'MultiClass', eval_metric= \"AUC\", random_state=42, task_type='GPU', \n",
    "                          learning_rate=0.1, leaf_estimation_iterations=1, max_depth = 4, n_estimators = 2000)"
   ]
  },
  {
   "cell_type": "code",
   "execution_count": 9,
   "metadata": {
    "scrolled": true
   },
   "outputs": [
    {
     "name": "stderr",
     "output_type": "stream",
     "text": [
      "AUC is not implemented on GPU. Will use CPU for metric computation, this could significantly affect learning time\n"
     ]
    },
    {
     "name": "stdout",
     "output_type": "stream",
     "text": [
      "0:\ttest: 0.5992642\tbest: 0.5992642 (0)\ttotal: 1.38s\tremaining: 46m\n",
      "10:\ttest: 0.7386585\tbest: 0.7386585 (10)\ttotal: 15.7s\tremaining: 47m 11s\n",
      "20:\ttest: 0.7634535\tbest: 0.7634535 (20)\ttotal: 33.3s\tremaining: 52m 21s\n",
      "30:\ttest: 0.7810293\tbest: 0.7810293 (30)\ttotal: 51.7s\tremaining: 54m 41s\n",
      "40:\ttest: 0.7910190\tbest: 0.7910190 (40)\ttotal: 1m 10s\tremaining: 55m 52s\n",
      "50:\ttest: 0.7965124\tbest: 0.7965124 (50)\ttotal: 1m 33s\tremaining: 59m 52s\n",
      "60:\ttest: 0.8008292\tbest: 0.8008292 (60)\ttotal: 1m 58s\tremaining: 1h 2m 42s\n",
      "70:\ttest: 0.8056439\tbest: 0.8056439 (70)\ttotal: 2m 18s\tremaining: 1h 2m 37s\n",
      "80:\ttest: 0.8081608\tbest: 0.8081608 (80)\ttotal: 2m 37s\tremaining: 1h 2m 16s\n",
      "90:\ttest: 0.8120458\tbest: 0.8120458 (90)\ttotal: 2m 58s\tremaining: 1h 2m 34s\n",
      "100:\ttest: 0.8150378\tbest: 0.8150378 (100)\ttotal: 3m 19s\tremaining: 1h 2m 31s\n",
      "110:\ttest: 0.8167769\tbest: 0.8167769 (110)\ttotal: 3m 39s\tremaining: 1h 2m 10s\n",
      "120:\ttest: 0.8195094\tbest: 0.8195094 (120)\ttotal: 3m 58s\tremaining: 1h 1m 41s\n",
      "130:\ttest: 0.8212027\tbest: 0.8212027 (130)\ttotal: 4m 17s\tremaining: 1h 1m 11s\n",
      "140:\ttest: 0.8225185\tbest: 0.8225185 (140)\ttotal: 4m 36s\tremaining: 1h 48s\n",
      "150:\ttest: 0.8234519\tbest: 0.8234519 (150)\ttotal: 4m 55s\tremaining: 1h 20s\n",
      "160:\ttest: 0.8243175\tbest: 0.8243175 (160)\ttotal: 5m 14s\tremaining: 59m 53s\n",
      "170:\ttest: 0.8252420\tbest: 0.8252420 (170)\ttotal: 5m 33s\tremaining: 59m 27s\n",
      "180:\ttest: 0.8260035\tbest: 0.8260035 (180)\ttotal: 5m 52s\tremaining: 59m 1s\n",
      "190:\ttest: 0.8272190\tbest: 0.8272190 (190)\ttotal: 6m 11s\tremaining: 58m 36s\n",
      "200:\ttest: 0.8281901\tbest: 0.8281901 (200)\ttotal: 6m 30s\tremaining: 58m 13s\n",
      "210:\ttest: 0.8287268\tbest: 0.8287268 (210)\ttotal: 6m 49s\tremaining: 57m 49s\n",
      "220:\ttest: 0.8295206\tbest: 0.8295206 (220)\ttotal: 7m 7s\tremaining: 57m 24s\n",
      "230:\ttest: 0.8301507\tbest: 0.8301507 (230)\ttotal: 7m 26s\tremaining: 57m\n",
      "240:\ttest: 0.8308969\tbest: 0.8308969 (240)\ttotal: 7m 45s\tremaining: 56m 36s\n",
      "250:\ttest: 0.8314804\tbest: 0.8314804 (250)\ttotal: 8m 4s\tremaining: 56m 13s\n",
      "260:\ttest: 0.8319919\tbest: 0.8319919 (260)\ttotal: 8m 23s\tremaining: 55m 52s\n",
      "270:\ttest: 0.8323980\tbest: 0.8323980 (270)\ttotal: 8m 41s\tremaining: 55m 29s\n",
      "280:\ttest: 0.8328875\tbest: 0.8328875 (280)\ttotal: 9m\tremaining: 55m 7s\n",
      "290:\ttest: 0.8332960\tbest: 0.8332960 (290)\ttotal: 9m 19s\tremaining: 54m 44s\n",
      "300:\ttest: 0.8338978\tbest: 0.8338978 (300)\ttotal: 9m 37s\tremaining: 54m 22s\n",
      "310:\ttest: 0.8343606\tbest: 0.8343606 (310)\ttotal: 9m 56s\tremaining: 53m 59s\n",
      "320:\ttest: 0.8349658\tbest: 0.8349658 (320)\ttotal: 10m 15s\tremaining: 53m 37s\n",
      "330:\ttest: 0.8354526\tbest: 0.8354526 (330)\ttotal: 10m 33s\tremaining: 53m 15s\n",
      "340:\ttest: 0.8359332\tbest: 0.8359332 (340)\ttotal: 10m 52s\tremaining: 52m 54s\n",
      "350:\ttest: 0.8361707\tbest: 0.8361707 (350)\ttotal: 11m 11s\tremaining: 52m 32s\n",
      "360:\ttest: 0.8365240\tbest: 0.8365240 (360)\ttotal: 11m 29s\tremaining: 52m 10s\n",
      "370:\ttest: 0.8369066\tbest: 0.8369066 (370)\ttotal: 11m 48s\tremaining: 51m 48s\n",
      "380:\ttest: 0.8372001\tbest: 0.8372001 (380)\ttotal: 12m 7s\tremaining: 51m 29s\n",
      "390:\ttest: 0.8374819\tbest: 0.8374819 (390)\ttotal: 12m 26s\tremaining: 51m 13s\n",
      "400:\ttest: 0.8378214\tbest: 0.8378214 (400)\ttotal: 12m 46s\tremaining: 50m 56s\n",
      "410:\ttest: 0.8381100\tbest: 0.8381100 (410)\ttotal: 13m 5s\tremaining: 50m 37s\n",
      "420:\ttest: 0.8383905\tbest: 0.8383905 (420)\ttotal: 13m 25s\tremaining: 50m 19s\n",
      "430:\ttest: 0.8385547\tbest: 0.8385547 (430)\ttotal: 13m 44s\tremaining: 50m\n",
      "440:\ttest: 0.8388654\tbest: 0.8388654 (440)\ttotal: 14m 3s\tremaining: 49m 42s\n",
      "450:\ttest: 0.8390737\tbest: 0.8390737 (450)\ttotal: 14m 22s\tremaining: 49m 23s\n",
      "460:\ttest: 0.8392935\tbest: 0.8392935 (460)\ttotal: 14m 42s\tremaining: 49m 5s\n",
      "470:\ttest: 0.8394393\tbest: 0.8394393 (470)\ttotal: 15m 1s\tremaining: 48m 45s\n",
      "480:\ttest: 0.8396314\tbest: 0.8396314 (480)\ttotal: 15m 20s\tremaining: 48m 26s\n",
      "490:\ttest: 0.8398201\tbest: 0.8398201 (490)\ttotal: 15m 38s\tremaining: 48m 5s\n",
      "500:\ttest: 0.8399409\tbest: 0.8399409 (500)\ttotal: 15m 58s\tremaining: 47m 46s\n",
      "510:\ttest: 0.8401591\tbest: 0.8401591 (510)\ttotal: 16m 16s\tremaining: 47m 26s\n",
      "520:\ttest: 0.8403415\tbest: 0.8403415 (520)\ttotal: 16m 35s\tremaining: 47m 6s\n",
      "530:\ttest: 0.8405302\tbest: 0.8405302 (530)\ttotal: 16m 55s\tremaining: 46m 48s\n",
      "540:\ttest: 0.8408033\tbest: 0.8408033 (540)\ttotal: 17m 14s\tremaining: 46m 28s\n",
      "550:\ttest: 0.8409616\tbest: 0.8409616 (550)\ttotal: 17m 33s\tremaining: 46m 10s\n",
      "560:\ttest: 0.8411879\tbest: 0.8411879 (560)\ttotal: 17m 52s\tremaining: 45m 50s\n",
      "570:\ttest: 0.8413739\tbest: 0.8413739 (570)\ttotal: 18m 11s\tremaining: 45m 31s\n",
      "580:\ttest: 0.8414911\tbest: 0.8414911 (580)\ttotal: 18m 31s\tremaining: 45m 13s\n",
      "590:\ttest: 0.8416560\tbest: 0.8416560 (590)\ttotal: 18m 50s\tremaining: 44m 56s\n",
      "600:\ttest: 0.8417965\tbest: 0.8417965 (600)\ttotal: 19m 10s\tremaining: 44m 37s\n",
      "610:\ttest: 0.8419985\tbest: 0.8419985 (610)\ttotal: 19m 30s\tremaining: 44m 20s\n",
      "620:\ttest: 0.8421961\tbest: 0.8421961 (620)\ttotal: 19m 49s\tremaining: 44m 2s\n",
      "630:\ttest: 0.8423421\tbest: 0.8423421 (630)\ttotal: 20m 8s\tremaining: 43m 41s\n",
      "640:\ttest: 0.8425065\tbest: 0.8425065 (640)\ttotal: 20m 27s\tremaining: 43m 23s\n",
      "650:\ttest: 0.8426131\tbest: 0.8426131 (650)\ttotal: 20m 47s\tremaining: 43m 4s\n",
      "660:\ttest: 0.8427222\tbest: 0.8427222 (660)\ttotal: 21m 6s\tremaining: 42m 45s\n",
      "670:\ttest: 0.8427870\tbest: 0.8427870 (670)\ttotal: 21m 24s\tremaining: 42m 24s\n",
      "680:\ttest: 0.8429587\tbest: 0.8429587 (680)\ttotal: 21m 43s\tremaining: 42m 4s\n",
      "690:\ttest: 0.8430924\tbest: 0.8430924 (690)\ttotal: 22m 1s\tremaining: 41m 43s\n",
      "700:\ttest: 0.8431814\tbest: 0.8431814 (700)\ttotal: 22m 20s\tremaining: 41m 24s\n",
      "710:\ttest: 0.8433484\tbest: 0.8433484 (710)\ttotal: 22m 40s\tremaining: 41m 6s\n",
      "720:\ttest: 0.8434914\tbest: 0.8434914 (720)\ttotal: 22m 59s\tremaining: 40m 47s\n",
      "730:\ttest: 0.8436436\tbest: 0.8436436 (730)\ttotal: 23m 18s\tremaining: 40m 27s\n",
      "740:\ttest: 0.8437283\tbest: 0.8437283 (740)\ttotal: 23m 37s\tremaining: 40m 7s\n",
      "750:\ttest: 0.8438123\tbest: 0.8438123 (750)\ttotal: 23m 55s\tremaining: 39m 47s\n",
      "760:\ttest: 0.8438928\tbest: 0.8438928 (760)\ttotal: 24m 14s\tremaining: 39m 28s\n",
      "770:\ttest: 0.8439804\tbest: 0.8439804 (770)\ttotal: 24m 33s\tremaining: 39m 8s\n",
      "780:\ttest: 0.8441076\tbest: 0.8441076 (780)\ttotal: 24m 52s\tremaining: 38m 50s\n",
      "790:\ttest: 0.8442198\tbest: 0.8442198 (790)\ttotal: 25m 12s\tremaining: 38m 31s\n",
      "800:\ttest: 0.8443304\tbest: 0.8443304 (800)\ttotal: 25m 30s\tremaining: 38m 11s\n",
      "810:\ttest: 0.8443882\tbest: 0.8443882 (810)\ttotal: 25m 49s\tremaining: 37m 51s\n",
      "820:\ttest: 0.8444632\tbest: 0.8444632 (820)\ttotal: 26m 8s\tremaining: 37m 31s\n",
      "830:\ttest: 0.8445855\tbest: 0.8445855 (830)\ttotal: 26m 26s\tremaining: 37m 11s\n",
      "840:\ttest: 0.8446920\tbest: 0.8446920 (840)\ttotal: 26m 44s\tremaining: 36m 51s\n",
      "850:\ttest: 0.8447978\tbest: 0.8447978 (850)\ttotal: 27m 3s\tremaining: 36m 31s\n",
      "860:\ttest: 0.8449126\tbest: 0.8449126 (860)\ttotal: 27m 21s\tremaining: 36m 12s\n",
      "870:\ttest: 0.8449914\tbest: 0.8449914 (870)\ttotal: 27m 40s\tremaining: 35m 52s\n",
      "880:\ttest: 0.8451045\tbest: 0.8451045 (880)\ttotal: 28m\tremaining: 35m 33s\n",
      "890:\ttest: 0.8452094\tbest: 0.8452094 (890)\ttotal: 28m 18s\tremaining: 35m 14s\n",
      "900:\ttest: 0.8452844\tbest: 0.8452844 (900)\ttotal: 28m 37s\tremaining: 34m 54s\n",
      "910:\ttest: 0.8453449\tbest: 0.8453449 (910)\ttotal: 28m 56s\tremaining: 34m 35s\n",
      "920:\ttest: 0.8454074\tbest: 0.8454074 (920)\ttotal: 29m 14s\tremaining: 34m 15s\n",
      "930:\ttest: 0.8454718\tbest: 0.8454718 (930)\ttotal: 29m 33s\tremaining: 33m 56s\n",
      "940:\ttest: 0.8455600\tbest: 0.8455600 (940)\ttotal: 29m 52s\tremaining: 33m 37s\n",
      "950:\ttest: 0.8456524\tbest: 0.8456524 (950)\ttotal: 30m 11s\tremaining: 33m 17s\n",
      "960:\ttest: 0.8457299\tbest: 0.8457299 (960)\ttotal: 30m 29s\tremaining: 32m 58s\n",
      "970:\ttest: 0.8458229\tbest: 0.8458229 (970)\ttotal: 30m 48s\tremaining: 32m 38s\n",
      "980:\ttest: 0.8459073\tbest: 0.8459073 (980)\ttotal: 31m 7s\tremaining: 32m 19s\n",
      "990:\ttest: 0.8459678\tbest: 0.8459678 (990)\ttotal: 31m 26s\tremaining: 32m\n",
      "1000:\ttest: 0.8460448\tbest: 0.8460448 (1000)\ttotal: 31m 44s\tremaining: 31m 40s\n",
      "1010:\ttest: 0.8460875\tbest: 0.8460875 (1010)\ttotal: 32m 3s\tremaining: 31m 21s\n",
      "1020:\ttest: 0.8461344\tbest: 0.8461344 (1020)\ttotal: 32m 21s\tremaining: 31m 1s\n",
      "1030:\ttest: 0.8461990\tbest: 0.8461990 (1030)\ttotal: 32m 40s\tremaining: 30m 42s\n",
      "1040:\ttest: 0.8462983\tbest: 0.8462983 (1040)\ttotal: 32m 59s\tremaining: 30m 23s\n",
      "1050:\ttest: 0.8464103\tbest: 0.8464103 (1050)\ttotal: 33m 18s\tremaining: 30m 4s\n",
      "1060:\ttest: 0.8464614\tbest: 0.8464614 (1060)\ttotal: 33m 38s\tremaining: 29m 46s\n",
      "1070:\ttest: 0.8465278\tbest: 0.8465278 (1070)\ttotal: 33m 58s\tremaining: 29m 28s\n"
     ]
    },
    {
     "name": "stdout",
     "output_type": "stream",
     "text": [
      "1080:\ttest: 0.8466024\tbest: 0.8466024 (1080)\ttotal: 34m 18s\tremaining: 29m 9s\n",
      "1090:\ttest: 0.8466513\tbest: 0.8466513 (1090)\ttotal: 34m 36s\tremaining: 28m 50s\n",
      "1100:\ttest: 0.8467286\tbest: 0.8467286 (1100)\ttotal: 34m 55s\tremaining: 28m 31s\n",
      "1110:\ttest: 0.8467803\tbest: 0.8467803 (1110)\ttotal: 35m 14s\tremaining: 28m 12s\n",
      "1120:\ttest: 0.8468298\tbest: 0.8468298 (1120)\ttotal: 35m 33s\tremaining: 27m 52s\n",
      "1130:\ttest: 0.8468761\tbest: 0.8468761 (1130)\ttotal: 35m 52s\tremaining: 27m 33s\n",
      "1140:\ttest: 0.8469321\tbest: 0.8469321 (1140)\ttotal: 36m 11s\tremaining: 27m 14s\n",
      "1150:\ttest: 0.8469722\tbest: 0.8469722 (1150)\ttotal: 36m 30s\tremaining: 26m 56s\n",
      "1160:\ttest: 0.8469995\tbest: 0.8469995 (1160)\ttotal: 36m 49s\tremaining: 26m 36s\n",
      "1170:\ttest: 0.8470889\tbest: 0.8470889 (1170)\ttotal: 37m 8s\tremaining: 26m 17s\n",
      "1180:\ttest: 0.8471548\tbest: 0.8471548 (1180)\ttotal: 37m 27s\tremaining: 25m 58s\n",
      "1190:\ttest: 0.8472092\tbest: 0.8472092 (1190)\ttotal: 37m 46s\tremaining: 25m 39s\n",
      "1200:\ttest: 0.8472942\tbest: 0.8472942 (1200)\ttotal: 38m 5s\tremaining: 25m 20s\n",
      "1210:\ttest: 0.8473469\tbest: 0.8473469 (1210)\ttotal: 38m 25s\tremaining: 25m 1s\n",
      "1220:\ttest: 0.8474401\tbest: 0.8474401 (1220)\ttotal: 38m 44s\tremaining: 24m 42s\n",
      "1230:\ttest: 0.8474883\tbest: 0.8474883 (1230)\ttotal: 39m 2s\tremaining: 24m 23s\n",
      "1240:\ttest: 0.8475656\tbest: 0.8475656 (1240)\ttotal: 39m 21s\tremaining: 24m 4s\n",
      "1250:\ttest: 0.8476328\tbest: 0.8476328 (1250)\ttotal: 39m 40s\tremaining: 23m 44s\n",
      "1260:\ttest: 0.8476724\tbest: 0.8476724 (1260)\ttotal: 39m 59s\tremaining: 23m 26s\n",
      "1270:\ttest: 0.8477299\tbest: 0.8477299 (1270)\ttotal: 40m 18s\tremaining: 23m 7s\n",
      "1280:\ttest: 0.8478114\tbest: 0.8478114 (1280)\ttotal: 40m 37s\tremaining: 22m 48s\n",
      "1290:\ttest: 0.8478792\tbest: 0.8478792 (1290)\ttotal: 40m 55s\tremaining: 22m 28s\n",
      "1300:\ttest: 0.8479417\tbest: 0.8479417 (1300)\ttotal: 41m 14s\tremaining: 22m 9s\n",
      "1310:\ttest: 0.8479951\tbest: 0.8479951 (1310)\ttotal: 41m 32s\tremaining: 21m 50s\n",
      "1320:\ttest: 0.8480544\tbest: 0.8480544 (1320)\ttotal: 41m 51s\tremaining: 21m 30s\n",
      "1330:\ttest: 0.8481193\tbest: 0.8481193 (1330)\ttotal: 42m 9s\tremaining: 21m 11s\n",
      "1340:\ttest: 0.8481898\tbest: 0.8481898 (1340)\ttotal: 42m 28s\tremaining: 20m 52s\n",
      "1350:\ttest: 0.8482562\tbest: 0.8482562 (1350)\ttotal: 42m 48s\tremaining: 20m 33s\n",
      "1360:\ttest: 0.8482929\tbest: 0.8482929 (1360)\ttotal: 43m 6s\tremaining: 20m 14s\n",
      "1370:\ttest: 0.8483476\tbest: 0.8483476 (1370)\ttotal: 43m 25s\tremaining: 19m 55s\n",
      "1380:\ttest: 0.8483786\tbest: 0.8483786 (1380)\ttotal: 43m 44s\tremaining: 19m 36s\n",
      "1390:\ttest: 0.8484308\tbest: 0.8484308 (1390)\ttotal: 44m 3s\tremaining: 19m 17s\n",
      "1400:\ttest: 0.8484793\tbest: 0.8484793 (1400)\ttotal: 44m 22s\tremaining: 18m 58s\n",
      "1410:\ttest: 0.8485235\tbest: 0.8485235 (1410)\ttotal: 44m 40s\tremaining: 18m 38s\n",
      "1420:\ttest: 0.8485500\tbest: 0.8485500 (1420)\ttotal: 44m 59s\tremaining: 18m 19s\n",
      "1430:\ttest: 0.8485960\tbest: 0.8485960 (1430)\ttotal: 45m 18s\tremaining: 18m\n",
      "1440:\ttest: 0.8486635\tbest: 0.8486635 (1440)\ttotal: 45m 37s\tremaining: 17m 41s\n",
      "1450:\ttest: 0.8486976\tbest: 0.8486978 (1449)\ttotal: 45m 55s\tremaining: 17m 22s\n",
      "1460:\ttest: 0.8487724\tbest: 0.8487724 (1460)\ttotal: 46m 14s\tremaining: 17m 3s\n",
      "1470:\ttest: 0.8488182\tbest: 0.8488182 (1470)\ttotal: 46m 33s\tremaining: 16m 44s\n",
      "1480:\ttest: 0.8488424\tbest: 0.8488424 (1480)\ttotal: 46m 51s\tremaining: 16m 25s\n",
      "1490:\ttest: 0.8488744\tbest: 0.8488744 (1490)\ttotal: 47m 10s\tremaining: 16m 6s\n",
      "1500:\ttest: 0.8489127\tbest: 0.8489127 (1500)\ttotal: 47m 29s\tremaining: 15m 47s\n",
      "1510:\ttest: 0.8489310\tbest: 0.8489310 (1510)\ttotal: 47m 48s\tremaining: 15m 28s\n",
      "1520:\ttest: 0.8489883\tbest: 0.8489883 (1520)\ttotal: 48m 7s\tremaining: 15m 9s\n",
      "1530:\ttest: 0.8490246\tbest: 0.8490246 (1530)\ttotal: 48m 26s\tremaining: 14m 50s\n",
      "1540:\ttest: 0.8490477\tbest: 0.8490477 (1540)\ttotal: 48m 45s\tremaining: 14m 31s\n",
      "1550:\ttest: 0.8491190\tbest: 0.8491190 (1550)\ttotal: 49m 4s\tremaining: 14m 12s\n",
      "1560:\ttest: 0.8491556\tbest: 0.8491556 (1560)\ttotal: 49m 23s\tremaining: 13m 53s\n",
      "1570:\ttest: 0.8491860\tbest: 0.8491864 (1569)\ttotal: 49m 41s\tremaining: 13m 34s\n",
      "1580:\ttest: 0.8492725\tbest: 0.8492725 (1580)\ttotal: 50m 1s\tremaining: 13m 15s\n",
      "1590:\ttest: 0.8493335\tbest: 0.8493335 (1590)\ttotal: 50m 20s\tremaining: 12m 56s\n",
      "1600:\ttest: 0.8493794\tbest: 0.8493794 (1600)\ttotal: 50m 38s\tremaining: 12m 37s\n",
      "1610:\ttest: 0.8494125\tbest: 0.8494125 (1610)\ttotal: 50m 57s\tremaining: 12m 18s\n",
      "1620:\ttest: 0.8494431\tbest: 0.8494431 (1620)\ttotal: 51m 15s\tremaining: 11m 59s\n",
      "1630:\ttest: 0.8494976\tbest: 0.8494976 (1630)\ttotal: 51m 34s\tremaining: 11m 40s\n",
      "1640:\ttest: 0.8495475\tbest: 0.8495475 (1640)\ttotal: 51m 53s\tremaining: 11m 21s\n",
      "1650:\ttest: 0.8495848\tbest: 0.8495848 (1650)\ttotal: 52m 12s\tremaining: 11m 2s\n",
      "1660:\ttest: 0.8496069\tbest: 0.8496069 (1660)\ttotal: 52m 31s\tremaining: 10m 43s\n",
      "1670:\ttest: 0.8496318\tbest: 0.8496318 (1670)\ttotal: 52m 50s\tremaining: 10m 24s\n",
      "1680:\ttest: 0.8496561\tbest: 0.8496561 (1680)\ttotal: 53m 8s\tremaining: 10m 5s\n",
      "1690:\ttest: 0.8496838\tbest: 0.8496838 (1690)\ttotal: 53m 27s\tremaining: 9m 46s\n",
      "1700:\ttest: 0.8497163\tbest: 0.8497163 (1700)\ttotal: 53m 46s\tremaining: 9m 27s\n",
      "1710:\ttest: 0.8497930\tbest: 0.8497930 (1710)\ttotal: 54m 5s\tremaining: 9m 8s\n",
      "1720:\ttest: 0.8498214\tbest: 0.8498214 (1720)\ttotal: 54m 24s\tremaining: 8m 49s\n",
      "1730:\ttest: 0.8498349\tbest: 0.8498349 (1730)\ttotal: 54m 43s\tremaining: 8m 30s\n",
      "1740:\ttest: 0.8498629\tbest: 0.8498629 (1740)\ttotal: 55m 2s\tremaining: 8m 11s\n",
      "1750:\ttest: 0.8498935\tbest: 0.8498935 (1750)\ttotal: 55m 21s\tremaining: 7m 52s\n",
      "1760:\ttest: 0.8499428\tbest: 0.8499428 (1760)\ttotal: 55m 40s\tremaining: 7m 33s\n",
      "1770:\ttest: 0.8499675\tbest: 0.8499675 (1770)\ttotal: 55m 59s\tremaining: 7m 14s\n",
      "1780:\ttest: 0.8499895\tbest: 0.8499895 (1780)\ttotal: 56m 18s\tremaining: 6m 55s\n",
      "1790:\ttest: 0.8500268\tbest: 0.8500268 (1790)\ttotal: 56m 36s\tremaining: 6m 36s\n",
      "1800:\ttest: 0.8500570\tbest: 0.8500570 (1800)\ttotal: 56m 55s\tremaining: 6m 17s\n",
      "1810:\ttest: 0.8500794\tbest: 0.8500794 (1810)\ttotal: 57m 14s\tremaining: 5m 58s\n",
      "1820:\ttest: 0.8501101\tbest: 0.8501101 (1820)\ttotal: 57m 33s\tremaining: 5m 39s\n",
      "1830:\ttest: 0.8501366\tbest: 0.8501366 (1830)\ttotal: 57m 51s\tremaining: 5m 20s\n",
      "1840:\ttest: 0.8501561\tbest: 0.8501561 (1840)\ttotal: 58m 10s\tremaining: 5m 1s\n",
      "1850:\ttest: 0.8502009\tbest: 0.8502009 (1850)\ttotal: 58m 28s\tremaining: 4m 42s\n",
      "1860:\ttest: 0.8502494\tbest: 0.8502494 (1860)\ttotal: 58m 46s\tremaining: 4m 23s\n",
      "1870:\ttest: 0.8502999\tbest: 0.8502999 (1870)\ttotal: 59m 5s\tremaining: 4m 4s\n",
      "1880:\ttest: 0.8503251\tbest: 0.8503251 (1880)\ttotal: 59m 24s\tremaining: 3m 45s\n",
      "1890:\ttest: 0.8503602\tbest: 0.8503602 (1890)\ttotal: 59m 42s\tremaining: 3m 26s\n",
      "1900:\ttest: 0.8504219\tbest: 0.8504219 (1900)\ttotal: 1h 1s\tremaining: 3m 7s\n",
      "1910:\ttest: 0.8504505\tbest: 0.8504505 (1910)\ttotal: 1h 20s\tremaining: 2m 48s\n",
      "1920:\ttest: 0.8504720\tbest: 0.8504720 (1920)\ttotal: 1h 39s\tremaining: 2m 29s\n",
      "1930:\ttest: 0.8505001\tbest: 0.8505001 (1930)\ttotal: 1h 58s\tremaining: 2m 10s\n",
      "1940:\ttest: 0.8505358\tbest: 0.8505358 (1940)\ttotal: 1h 1m 17s\tremaining: 1m 51s\n",
      "1950:\ttest: 0.8505711\tbest: 0.8505711 (1950)\ttotal: 1h 1m 35s\tremaining: 1m 32s\n",
      "1960:\ttest: 0.8506150\tbest: 0.8506150 (1960)\ttotal: 1h 1m 54s\tremaining: 1m 13s\n",
      "1970:\ttest: 0.8506506\tbest: 0.8506506 (1970)\ttotal: 1h 2m 13s\tremaining: 54.9s\n",
      "1980:\ttest: 0.8506923\tbest: 0.8506923 (1980)\ttotal: 1h 2m 32s\tremaining: 36s\n",
      "1990:\ttest: 0.8507622\tbest: 0.8507622 (1990)\ttotal: 1h 2m 50s\tremaining: 17s\n",
      "1999:\ttest: 0.8507966\tbest: 0.8507966 (1999)\ttotal: 1h 3m 7s\tremaining: 0us\n",
      "bestTest = 0.8507965574\n",
      "bestIteration = 1999\n"
     ]
    },
    {
     "data": {
      "text/plain": [
       "<catboost.core.CatBoostClassifier at 0x7fe122bbd910>"
      ]
     },
     "execution_count": 9,
     "metadata": {},
     "output_type": "execute_result"
    }
   ],
   "source": [
    "cat_clf.fit(X_train_part, y_train_part, eval_set=(X_valid, y_valid), verbose=10, cat_features = cat_feat,\n",
    "                 early_stopping_rounds = 50, use_best_model=True)"
   ]
  },
  {
   "cell_type": "code",
   "execution_count": 10,
   "metadata": {},
   "outputs": [],
   "source": [
    "cat_predict = cat_clf.predict_proba(df_hold[features])"
   ]
  },
  {
   "cell_type": "code",
   "execution_count": 11,
   "metadata": {},
   "outputs": [
    {
     "data": {
      "text/plain": [
       "0.806518411939062"
      ]
     },
     "execution_count": 11,
     "metadata": {},
     "output_type": "execute_result"
    }
   ],
   "source": [
    "roc_auc_score(df_hold.Segment, cat_predict, multi_class='ovr')"
   ]
  },
  {
   "cell_type": "code",
   "execution_count": 14,
   "metadata": {},
   "outputs": [
    {
     "data": {
      "text/plain": [
       "Text(0.5, 0, 'Важность')"
      ]
     },
     "execution_count": 14,
     "metadata": {},
     "output_type": "execute_result"
    },
    {
     "data": {
      "image/png": "[encoded data removed]",
      "text/plain": [
       "<Figure size 576x432 with 1 Axes>"
      ]
     },
     "metadata": {},
     "output_type": "display_data"
    }
   ],
   "source": [
    "fea_imp = pd.DataFrame({'imp': cat_clf.feature_importances_, 'col': X_train_part.columns})\n",
    "fea_imp = fea_imp.sort_values(['imp', 'col'], ascending=[True, False]).iloc[-20:]\n",
    "fea_imp.plot(kind='barh', x='col', y='imp', figsize=(8, 6), legend=None)\n",
    "plt.title('CatBoost - Важность признаков')\n",
    "plt.ylabel('Признаки')\n",
    "plt.xlabel('Важность')"
   ]
  },
  {
   "cell_type": "code",
   "execution_count": 15,
   "metadata": {},
   "outputs": [],
   "source": [
    "#Сохранение модели CatBoostClassifier\n",
    "cat_clf.save_model('cat_clf.cbm')\n",
    "#Загрузка модели\n",
    "#cat_clf = CatBoostClassifier() \n",
    "#cat_clf.load_model('cat_clf.cbm')"
   ]
  },
  {
   "cell_type": "markdown",
   "metadata": {},
   "source": [
    "## Предсказание на тестовом датасете"
   ]
  },
  {
   "cell_type": "code",
   "execution_count": 16,
   "metadata": {},
   "outputs": [],
   "source": [
    "df_test = pd.read_csv('df_test.csv.gz', sep=',')"
   ]
  },
  {
   "cell_type": "code",
   "execution_count": 17,
   "metadata": {},
   "outputs": [],
   "source": [
    "df_test['gamecategory'] = df_test['gamecategory'].fillna(\" \")\n",
    "df_test['subgamecategory'] = df_test['gamecategory'].fillna(\" \")\n",
    "df_test['bundle'] = df_test['bundle'].fillna(\" \")\n",
    "df_test['city'] = df_test['city'].fillna(\" \")\n",
    "df_test['os'] = df_test['os'].fillna(\" \")"
   ]
  },
  {
   "cell_type": "code",
   "execution_count": 18,
   "metadata": {},
   "outputs": [],
   "source": [
    "# Простое предсказание\n",
    "y_pred = cat_clf.predict_proba(df_test[features])"
   ]
  },
  {
   "cell_type": "markdown",
   "metadata": {},
   "source": [
    "Предсказание по фолдам"
   ]
  },
  {
   "cell_type": "code",
   "execution_count": 20,
   "metadata": {
    "scrolled": true
   },
   "outputs": [
    {
     "name": "stdout",
     "output_type": "stream",
     "text": [
      "fold n°1\n"
     ]
    },
    {
     "name": "stderr",
     "output_type": "stream",
     "text": [
      "AUC is not implemented on GPU. Will use CPU for metric computation, this could significantly affect learning time\n"
     ]
    },
    {
     "name": "stdout",
     "output_type": "stream",
     "text": [
      "0:\ttest: 0.5976287\tbest: 0.5976287 (0)\ttotal: 416ms\tremaining: 41.2s\n",
      "10:\ttest: 0.7367551\tbest: 0.7367551 (10)\ttotal: 5.54s\tremaining: 44.8s\n",
      "20:\ttest: 0.7634506\tbest: 0.7634506 (20)\ttotal: 11.9s\tremaining: 44.9s\n",
      "30:\ttest: 0.7803990\tbest: 0.7803990 (30)\ttotal: 18.6s\tremaining: 41.4s\n",
      "40:\ttest: 0.7915571\tbest: 0.7915571 (40)\ttotal: 25.4s\tremaining: 36.5s\n",
      "50:\ttest: 0.7996821\tbest: 0.7996821 (50)\ttotal: 32.1s\tremaining: 30.9s\n",
      "60:\ttest: 0.8042722\tbest: 0.8042722 (60)\ttotal: 38.9s\tremaining: 24.9s\n",
      "70:\ttest: 0.8088857\tbest: 0.8088857 (70)\ttotal: 45.8s\tremaining: 18.7s\n",
      "80:\ttest: 0.8123449\tbest: 0.8123449 (80)\ttotal: 52.7s\tremaining: 12.4s\n",
      "90:\ttest: 0.8138525\tbest: 0.8138525 (90)\ttotal: 59.5s\tremaining: 5.89s\n",
      "99:\ttest: 0.8155929\tbest: 0.8155929 (99)\ttotal: 1m 5s\tremaining: 0us\n",
      "bestTest = 0.8155929066\n",
      "bestIteration = 99\n",
      "fold n°2\n"
     ]
    },
    {
     "name": "stderr",
     "output_type": "stream",
     "text": [
      "AUC is not implemented on GPU. Will use CPU for metric computation, this could significantly affect learning time\n"
     ]
    },
    {
     "name": "stdout",
     "output_type": "stream",
     "text": [
      "0:\ttest: 0.5970720\tbest: 0.5970720 (0)\ttotal: 423ms\tremaining: 41.8s\n",
      "10:\ttest: 0.7357311\tbest: 0.7357311 (10)\ttotal: 5.74s\tremaining: 46.4s\n",
      "20:\ttest: 0.7623828\tbest: 0.7623828 (20)\ttotal: 12.6s\tremaining: 47.4s\n",
      "30:\ttest: 0.7797348\tbest: 0.7797348 (30)\ttotal: 20.4s\tremaining: 45.4s\n",
      "40:\ttest: 0.7890770\tbest: 0.7890770 (40)\ttotal: 27.9s\tremaining: 40.2s\n",
      "50:\ttest: 0.7955616\tbest: 0.7955616 (50)\ttotal: 35.1s\tremaining: 33.7s\n",
      "60:\ttest: 0.8001444\tbest: 0.8001444 (60)\ttotal: 42.4s\tremaining: 27.1s\n",
      "70:\ttest: 0.8057147\tbest: 0.8057147 (70)\ttotal: 49.7s\tremaining: 20.3s\n",
      "80:\ttest: 0.8084450\tbest: 0.8084450 (80)\ttotal: 56.9s\tremaining: 13.3s\n",
      "90:\ttest: 0.8119124\tbest: 0.8119124 (90)\ttotal: 1m 3s\tremaining: 6.3s\n",
      "99:\ttest: 0.8144878\tbest: 0.8144878 (99)\ttotal: 1m 9s\tremaining: 0us\n",
      "bestTest = 0.8144878415\n",
      "bestIteration = 99\n",
      "fold n°3\n"
     ]
    },
    {
     "name": "stderr",
     "output_type": "stream",
     "text": [
      "AUC is not implemented on GPU. Will use CPU for metric computation, this could significantly affect learning time\n"
     ]
    },
    {
     "name": "stdout",
     "output_type": "stream",
     "text": [
      "0:\ttest: 0.5980240\tbest: 0.5980240 (0)\ttotal: 417ms\tremaining: 41.3s\n",
      "10:\ttest: 0.7393918\tbest: 0.7393918 (10)\ttotal: 5.46s\tremaining: 44.2s\n",
      "20:\ttest: 0.7636355\tbest: 0.7636355 (20)\ttotal: 11.9s\tremaining: 44.8s\n",
      "30:\ttest: 0.7810153\tbest: 0.7810153 (30)\ttotal: 18.6s\tremaining: 41.5s\n",
      "40:\ttest: 0.7913401\tbest: 0.7913401 (40)\ttotal: 25.5s\tremaining: 36.7s\n",
      "50:\ttest: 0.7984423\tbest: 0.7984423 (50)\ttotal: 32.4s\tremaining: 31.1s\n",
      "60:\ttest: 0.8039716\tbest: 0.8039716 (60)\ttotal: 39.5s\tremaining: 25.2s\n",
      "70:\ttest: 0.8076310\tbest: 0.8076310 (70)\ttotal: 46.5s\tremaining: 19s\n",
      "80:\ttest: 0.8120204\tbest: 0.8120204 (80)\ttotal: 53.6s\tremaining: 12.6s\n",
      "90:\ttest: 0.8152193\tbest: 0.8152193 (90)\ttotal: 1m 1s\tremaining: 6.04s\n",
      "99:\ttest: 0.8168796\tbest: 0.8168796 (99)\ttotal: 1m 7s\tremaining: 0us\n",
      "bestTest = 0.8168795988\n",
      "bestIteration = 99\n",
      "fold n°4\n"
     ]
    },
    {
     "name": "stderr",
     "output_type": "stream",
     "text": [
      "AUC is not implemented on GPU. Will use CPU for metric computation, this could significantly affect learning time\n"
     ]
    },
    {
     "name": "stdout",
     "output_type": "stream",
     "text": [
      "0:\ttest: 0.5976698\tbest: 0.5976698 (0)\ttotal: 433ms\tremaining: 42.9s\n",
      "10:\ttest: 0.7368393\tbest: 0.7368393 (10)\ttotal: 5.7s\tremaining: 46.1s\n",
      "20:\ttest: 0.7664828\tbest: 0.7664828 (20)\ttotal: 12.3s\tremaining: 46.3s\n",
      "30:\ttest: 0.7803888\tbest: 0.7803888 (30)\ttotal: 19s\tremaining: 42.2s\n",
      "40:\ttest: 0.7908165\tbest: 0.7908165 (40)\ttotal: 25.7s\tremaining: 37s\n",
      "50:\ttest: 0.7984854\tbest: 0.7984854 (50)\ttotal: 32.8s\tremaining: 31.5s\n",
      "60:\ttest: 0.8032665\tbest: 0.8032665 (60)\ttotal: 39.5s\tremaining: 25.3s\n",
      "70:\ttest: 0.8079585\tbest: 0.8079585 (70)\ttotal: 46.5s\tremaining: 19s\n",
      "80:\ttest: 0.8106401\tbest: 0.8106401 (80)\ttotal: 53.5s\tremaining: 12.6s\n",
      "90:\ttest: 0.8123841\tbest: 0.8123841 (90)\ttotal: 1m\tremaining: 6s\n",
      "99:\ttest: 0.8145521\tbest: 0.8145521 (99)\ttotal: 1m 6s\tremaining: 0us\n",
      "bestTest = 0.8145521047\n",
      "bestIteration = 99\n",
      "fold n°5\n"
     ]
    },
    {
     "name": "stderr",
     "output_type": "stream",
     "text": [
      "AUC is not implemented on GPU. Will use CPU for metric computation, this could significantly affect learning time\n"
     ]
    },
    {
     "name": "stdout",
     "output_type": "stream",
     "text": [
      "0:\ttest: 0.5972014\tbest: 0.5972014 (0)\ttotal: 407ms\tremaining: 40.3s\n",
      "10:\ttest: 0.7391441\tbest: 0.7391441 (10)\ttotal: 5.63s\tremaining: 45.6s\n",
      "20:\ttest: 0.7638047\tbest: 0.7638047 (20)\ttotal: 12.1s\tremaining: 45.7s\n",
      "30:\ttest: 0.7811817\tbest: 0.7811817 (30)\ttotal: 19s\tremaining: 42.3s\n",
      "40:\ttest: 0.7903357\tbest: 0.7903357 (40)\ttotal: 25.7s\tremaining: 37s\n",
      "50:\ttest: 0.7974763\tbest: 0.7974763 (50)\ttotal: 32.6s\tremaining: 31.3s\n",
      "60:\ttest: 0.8014602\tbest: 0.8014602 (60)\ttotal: 39.5s\tremaining: 25.3s\n",
      "70:\ttest: 0.8069625\tbest: 0.8069625 (70)\ttotal: 46.6s\tremaining: 19s\n",
      "80:\ttest: 0.8104964\tbest: 0.8104964 (80)\ttotal: 53.6s\tremaining: 12.6s\n",
      "90:\ttest: 0.8128030\tbest: 0.8128030 (90)\ttotal: 1m\tremaining: 5.98s\n",
      "99:\ttest: 0.8143880\tbest: 0.8143880 (99)\ttotal: 1m 6s\tremaining: 0us\n",
      "bestTest = 0.8143880432\n",
      "bestIteration = 99\n"
     ]
    }
   ],
   "source": [
    "clf = CatBoostClassifier(loss_function = 'MultiClass', eval_metric= \"AUC\", random_state=42, task_type='GPU', \n",
    "                          learning_rate=0.1, leaf_estimation_iterations=1, max_depth = 4, n_estimators = 100)\n",
    "\n",
    "features = ['gamecategory', 'subgamecategory', 'bundle', 'city', 'os', 'osv', 'hour_created', 'day_created']\n",
    "cat_feat = ['gamecategory', 'subgamecategory', 'bundle', 'city', 'os',]\n",
    "\n",
    "X_train = df_train[features]\n",
    "y_train = df_train.Segment\n",
    "X_test = df_test[features]\n",
    "\n",
    "num_folds = 5\n",
    "folds = KFold(n_splits= num_folds, shuffle=True, random_state=42)\n",
    "y_pred = np.zeros((X_test.shape[0], 5))\n",
    "\n",
    "for fold_, (trn_idx, val_idx) in enumerate(folds.split(X_train, y_train)):\n",
    "    print(\"fold n°{}\".format(fold_ + 1))\n",
    "    X_trn = X_train.iloc[trn_idx]\n",
    "    y_trn = y_train.iloc[trn_idx]\n",
    "    X_val = X_train.iloc[val_idx]\n",
    "    y_val = y_train.iloc[val_idx]\n",
    "\n",
    "    clf.fit(X_trn, y_trn, eval_set=(X_val, y_val), verbose=10, cat_features = cat_feat,\n",
    "                 early_stopping_rounds = 50, use_best_model=True)\n",
    "    \n",
    "    y_pred += clf.predict_proba(X_test) / folds.n_splits"
   ]
  },
  {
   "cell_type": "code",
   "execution_count": 21,
   "metadata": {},
   "outputs": [
    {
     "data": {
      "text/html": [
       "<div>\n",
       "<style scoped>\n",
       "    .dataframe tbody tr th:only-of-type {\n",
       "        vertical-align: middle;\n",
       "    }\n",
       "\n",
       "    .dataframe tbody tr th {\n",
       "        vertical-align: top;\n",
       "    }\n",
       "\n",
       "    .dataframe thead th {\n",
       "        text-align: right;\n",
       "    }\n",
       "</style>\n",
       "<table border=\"1\" class=\"dataframe\">\n",
       "  <thead>\n",
       "    <tr style=\"text-align: right;\">\n",
       "      <th></th>\n",
       "      <th>1</th>\n",
       "      <th>2</th>\n",
       "      <th>3</th>\n",
       "      <th>4</th>\n",
       "      <th>5</th>\n",
       "    </tr>\n",
       "  </thead>\n",
       "  <tbody>\n",
       "    <tr>\n",
       "      <th>0</th>\n",
       "      <td>0.000503</td>\n",
       "      <td>0.015686</td>\n",
       "      <td>0.610352</td>\n",
       "      <td>0.070801</td>\n",
       "      <td>0.302734</td>\n",
       "    </tr>\n",
       "    <tr>\n",
       "      <th>1</th>\n",
       "      <td>0.047058</td>\n",
       "      <td>0.000031</td>\n",
       "      <td>0.183838</td>\n",
       "      <td>0.704102</td>\n",
       "      <td>0.064941</td>\n",
       "    </tr>\n",
       "    <tr>\n",
       "      <th>2</th>\n",
       "      <td>0.032349</td>\n",
       "      <td>0.030014</td>\n",
       "      <td>0.514648</td>\n",
       "      <td>0.090881</td>\n",
       "      <td>0.332275</td>\n",
       "    </tr>\n",
       "    <tr>\n",
       "      <th>3</th>\n",
       "      <td>0.029678</td>\n",
       "      <td>0.000011</td>\n",
       "      <td>0.621094</td>\n",
       "      <td>0.324951</td>\n",
       "      <td>0.024017</td>\n",
       "    </tr>\n",
       "    <tr>\n",
       "      <th>4</th>\n",
       "      <td>0.013596</td>\n",
       "      <td>0.012451</td>\n",
       "      <td>0.408447</td>\n",
       "      <td>0.454346</td>\n",
       "      <td>0.111084</td>\n",
       "    </tr>\n",
       "  </tbody>\n",
       "</table>\n",
       "</div>"
      ],
      "text/plain": [
       "          1         2         3         4         5\n",
       "0  0.000503  0.015686  0.610352  0.070801  0.302734\n",
       "1  0.047058  0.000031  0.183838  0.704102  0.064941\n",
       "2  0.032349  0.030014  0.514648  0.090881  0.332275\n",
       "3  0.029678  0.000011  0.621094  0.324951  0.024017\n",
       "4  0.013596  0.012451  0.408447  0.454346  0.111084"
      ]
     },
     "execution_count": 21,
     "metadata": {},
     "output_type": "execute_result"
    }
   ],
   "source": [
    "df_predictions = pd.DataFrame(y_pred, index=df_test.index, \n",
    "                              columns=['{}'.format(class_id) for class_id in clf.classes_],)\n",
    "df_predictions = df_predictions.astype('float16')\n",
    "df_predictions.head()"
   ]
  },
  {
   "cell_type": "code",
   "execution_count": 22,
   "metadata": {},
   "outputs": [],
   "source": [
    "#в тесте нет индекса\n",
    "compression_opts = dict(method='zip', archive_name='results.csv') \n",
    "df_predictions.to_csv(\"results.zip\", header = True, index= False, compression=compression_opts)"
   ]
  },
  {
   "cell_type": "code",
   "execution_count": null,
   "metadata": {},
   "outputs": [],
   "source": []
  }
 ],
 "metadata": {
  "kernelspec": {
   "display_name": "Python 3",
   "language": "python",
   "name": "python3"
  },
  "language_info": {
   "codemirror_mode": {
    "name": "ipython",
    "version": 3
   },
   "file_extension": ".py",
   "mimetype": "text/x-python",
   "name": "python",
   "nbconvert_exporter": "python",
   "pygments_lexer": "ipython3",
   "version": "3.8.3"
  }
 },
 "nbformat": 4,
 "nbformat_minor": 4
}
